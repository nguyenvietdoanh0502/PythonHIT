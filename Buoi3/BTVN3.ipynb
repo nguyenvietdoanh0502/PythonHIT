{
  "nbformat": 4,
  "nbformat_minor": 0,
  "metadata": {
    "colab": {
      "provenance": []
    },
    "kernelspec": {
      "name": "python3",
      "display_name": "Python 3"
    },
    "language_info": {
      "name": "python"
    }
  },
  "cells": [
    {
      "cell_type": "code",
      "execution_count": 1,
      "metadata": {
        "colab": {
          "base_uri": "https://localhost:8080/"
        },
        "id": "PWcZEy83F6UG",
        "outputId": "ec757eae-0877-4eea-b18c-7b3334142b45"
      },
      "outputs": [
        {
          "output_type": "stream",
          "name": "stdout",
          "text": [
            "Nhap x: 10\n",
            "Nhap n: 4\n",
            "e mu 10 =22026.46579480671\n",
            "S(4)=1.7083333333333335\n"
          ]
        }
      ],
      "source": [
        "#Problem 1\n",
        "def GT(x):\n",
        "  res = 1\n",
        "  for i in range(1,x+1,1):\n",
        "    res*=i\n",
        "  return res\n",
        "def E(x):\n",
        "  sum = 1 + x\n",
        "  for i in range(2,100,1):\n",
        "    sum+=(x**i)/GT(i)\n",
        "  return sum\n",
        "def S(x):\n",
        "  sum = 1\n",
        "  for i in range(2,x+1,1):\n",
        "    sum+=1/GT(i)\n",
        "  return sum\n",
        "x = int(input('Nhap x: '))\n",
        "n = int(input('Nhap n: '))\n",
        "print(f'e mu {x} ={E(x)}')\n",
        "print(f'S({n})={S(n)}')"
      ]
    },
    {
      "cell_type": "code",
      "source": [
        "#Problem 2\n",
        "import math\n",
        "def CP(x):\n",
        "  n = int(math.sqrt(x))\n",
        "  if(x==n*n):\n",
        "    return True\n",
        "  else:\n",
        "    return False\n",
        "while True:\n",
        "  n = int(input('Nhap n: '))\n",
        "  if(n>0):\n",
        "    break\n",
        "  else:\n",
        "    print('Nhap lai n.')\n",
        "check = 0\n",
        "for i in range(2,n,1):\n",
        "  if(CP(i)==True):\n",
        "    check+=1\n",
        "print(check)\n"
      ],
      "metadata": {
        "colab": {
          "base_uri": "https://localhost:8080/"
        },
        "id": "nHsc40QUGDfh",
        "outputId": "ce4f0510-fa4d-4b41-bc08-6a220f203251"
      },
      "execution_count": 2,
      "outputs": [
        {
          "output_type": "stream",
          "name": "stdout",
          "text": [
            "Nhap n: 7\n",
            "1\n"
          ]
        }
      ]
    },
    {
      "cell_type": "code",
      "source": [
        "#Problem 3\n",
        "while True:\n",
        "  n = int(input('Nhap so luong : '))\n",
        "  if(n>0):\n",
        "    break\n",
        "  else:\n",
        "    print('Nhap lai n.')\n",
        "arr1 = []\n",
        "arr2 = []\n",
        "arr3 = []\n",
        "for i in range(n):\n",
        "  x = input('Nhap ten: ')\n",
        "  arr1.append(x)\n",
        "  y1 = int(input('Nhap diem bai 1:  '))\n",
        "  y2 = int(input('Nhap diem bai 2: '))\n",
        "  y = y1+y2\n",
        "  arr2.append(y)\n",
        "  if(y>=190):\n",
        "    arr3.append(\"Xuat sac\")\n",
        "  elif(y>=150 and y<190):\n",
        "    arr3.append(\"Tot\")\n",
        "  elif(y>=100 and y<150):\n",
        "    arr3.append(\"Kha\")\n",
        "  else:\n",
        "    arr3.append(\"Yeu\")\n",
        "for i in range(len(arr1)):\n",
        "  print(i+1, arr1[i], arr2[i], arr3[i])"
      ],
      "metadata": {
        "colab": {
          "base_uri": "https://localhost:8080/"
        },
        "id": "_it6TjBvGJAN",
        "outputId": "58719a6a-7dfa-43f3-83d2-ed308728d8c3"
      },
      "execution_count": 3,
      "outputs": [
        {
          "output_type": "stream",
          "name": "stdout",
          "text": [
            "Nhap so luong : 2\n",
            "Nhap ten: Doanh\n",
            "Nhap diem bai 1:  100\n",
            "Nhap diem bai 2: 20\n",
            "Nhap ten: Hung\n",
            "Nhap diem bai 1:  200\n",
            "Nhap diem bai 2: 100\n",
            "1 Doanh 120 Kha\n",
            "2 Hung 300 Xuat sac\n"
          ]
        }
      ]
    },
    {
      "cell_type": "code",
      "source": [
        "#Problem 4\n",
        "import re\n",
        "email = input('Nhap email:  ')\n",
        "check = r'^\\w+@\\w+\\.\\w+$'\n",
        "if re.match(check,email):\n",
        "  print(\"Email hop le\")\n",
        "else:\n",
        "  print(\"Email khong hop le\")"
      ],
      "metadata": {
        "colab": {
          "base_uri": "https://localhost:8080/"
        },
        "id": "zhCOgCcTGPEG",
        "outputId": "63ab68a5-19c9-4914-b02d-c75fc7488c3d"
      },
      "execution_count": 5,
      "outputs": [
        {
          "output_type": "stream",
          "name": "stdout",
          "text": [
            "Nhap email:  vietdoanh@gmail.com\n",
            "Email hop le\n"
          ]
        }
      ]
    },
    {
      "cell_type": "code",
      "source": [
        "#Problem 5\n",
        "while True:\n",
        "    n = int (input(\"Nhap so luong con vat: \"))\n",
        "    if(n>0):\n",
        "        break\n",
        "    else:\n",
        "        print(\"Nhap lai!\")\n",
        "arr1 =[]\n",
        "arr2 =[]\n",
        "for i in range(0,n,1):\n",
        "    y = input(f'Nhap ten dong vat {i+1}: ')\n",
        "    arr1.append(y)\n",
        "    x = int(input(\"Nhap so luong thuc an: \"))\n",
        "    arr2.append(x)\n",
        "zip = zip(arr1,arr2)\n",
        "for i in list(zip):\n",
        "    print(i)\n",
        "sum = 0\n",
        "check = True\n",
        "for i in arr2:\n",
        "    if(i>=5 and i<=100):\n",
        "        sum+=i\n",
        "    elif(i>100):\n",
        "        check = False\n",
        "        break\n",
        "\n",
        "if(check):\n",
        "    print(\"Tong so thuc an la: \",sum)\n",
        "max = arr2[0]\n",
        "index = 0\n",
        "for i in range(len(arr2)):\n",
        "    if(max<arr2[i]):\n",
        "        max = arr2[i]\n",
        "        index = i\n",
        "print(\"Loai an nhieu nhat la: \",arr1[index])\n",
        "min = arr2[0]\n",
        "index2 = 0\n",
        "check2 = False\n",
        "for i in range(len(arr2)):\n",
        "    if(min>= arr2[i]):\n",
        "        min = arr2[i]\n",
        "        index2 = i\n",
        "        if(arr2[i]<5):\n",
        "            check2 = True\n",
        "if(check2):\n",
        "    print(index2)\n",
        "else:\n",
        "    print(\"Khong co\")"
      ],
      "metadata": {
        "colab": {
          "base_uri": "https://localhost:8080/"
        },
        "id": "_Yf1xZZjGlQT",
        "outputId": "4cd2d230-3e1c-460a-a026-33feadaf1578"
      },
      "execution_count": 6,
      "outputs": [
        {
          "output_type": "stream",
          "name": "stdout",
          "text": [
            "Nhap so luong con vat: 2\n",
            "Nhap ten dong vat 1: Voi\n",
            "Nhap so luong thuc an: 100\n",
            "Nhap ten dong vat 2: Ngua\n",
            "Nhap so luong thuc an: 4\n",
            "('Voi', 100)\n",
            "('Ngua', 4)\n",
            "Tong so thuc an la:  100\n",
            "Loai an nhieu nhat la:  Voi\n",
            "1\n"
          ]
        }
      ]
    },
    {
      "cell_type": "code",
      "source": [
        "#Problem 6\n",
        "import math\n",
        "def is_number(x):\n",
        "    try:\n",
        "        float(x)\n",
        "        return True\n",
        "    except ValueError:\n",
        "        return False\n",
        "x = float(input(\"Nhap x:  \"))\n",
        "if(is_number(x)==False):\n",
        "    print(\"x must be a number\")\n",
        "else:\n",
        "    while True:\n",
        "        choose = input('Nhap ham( binary| sigmoid| elu ):  ')\n",
        "        if(choose==\"binary\" or choose==\"sigmoid\" or choose==\"elu\"):\n",
        "            break\n",
        "        else:\n",
        "            print(f'{choose} is not supported')\n",
        "    if(choose==\"binary\"):\n",
        "        if(x<0):\n",
        "            print(f'f({x})=0')\n",
        "        else:\n",
        "            print(f'f({x})=1')\n",
        "    elif(choose==\"sigmoid\"):\n",
        "        sum = 1/(1+math.e**(-x))\n",
        "        print(f'f({x})={sum}')\n",
        "    elif(choose==\"elu\"):\n",
        "        if(x<0):\n",
        "            sum = 0.01*(math.e**x-1)\n",
        "            print(f'f({x})={sum}')\n",
        "        else:\n",
        "            print(f'f({x})={x}')"
      ],
      "metadata": {
        "colab": {
          "base_uri": "https://localhost:8080/"
        },
        "id": "CMBdGsQVGsVc",
        "outputId": "3f59bae1-15c2-4207-dffb-85b10382aa47"
      },
      "execution_count": 7,
      "outputs": [
        {
          "output_type": "stream",
          "name": "stdout",
          "text": [
            "Nhap x:  4\n",
            "Nhap ham( binary| sigmoid| elu ):  elu\n",
            "f(4.0)=4.0\n"
          ]
        }
      ]
    }
  ]
}