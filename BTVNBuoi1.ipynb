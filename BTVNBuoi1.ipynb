{
  "nbformat": 4,
  "nbformat_minor": 0,
  "metadata": {
    "colab": {
      "provenance": []
    },
    "kernelspec": {
      "name": "python3",
      "display_name": "Python 3"
    },
    "language_info": {
      "name": "python"
    }
  },
  "cells": [
    {
      "cell_type": "markdown",
      "source": [
        "Câu1: Python có thể\n",
        "+ Phát triển web\n",
        "+ Phát triển game\n",
        "+ Phát triển phầm mềm\n",
        "+ Phát triển tự động hóa\n",
        "+ Xử lý hình ảnh và video\n",
        "+ Khoa học dữ liệu và học máy..."
      ],
      "metadata": {
        "id": "vwL7FsvYFf99"
      }
    },
    {
      "cell_type": "markdown",
      "source": [
        "Câu2:\n",
        "- Giống nhau:\n",
        "  + Đều là ngôn ngữ lập trình\n",
        "  + Đều có cấu trúc\n",
        "  + Đều có thể tạo ra các chương trình ứng dung\n",
        "- Khác nhau:\n",
        "  + Cú pháp: Python dễ đọc, đơn giản, giống ngôn ngữ tự nhiên hơn\n",
        "  + Kiểu dữ liệu: Python gõ động( Không cần khai báo kiểu dữ liệu trước)\n",
        "  + Tốc độ: Chậm hơn C++ do Python được thông dịch\n",
        "  + Mục đích sử dung: Phân tích dữ liệu, học máy, phát triển web, tự động hóa\n",
        "  + Quản lý bộ nhớ: Tự động quản lý bộ nhớ (garbage collection)"
      ],
      "metadata": {
        "id": "njCv2AdkFmOE"
      }
    },
    {
      "cell_type": "markdown",
      "source": [
        "Câu3: Python là ngôn ngữ thông dịch vì:\n",
        "- Mã nguồn Python được thực thi trực tiếp bởi trình thông dịch Python, thay vì được biên dịch thành mã máy trước khi chạy như các ngôn ngữ biên dịch\n",
        "- Mã Python được thực thi dòng lệnh theo dòng lệnh.\n",
        "- Không cần biên dịch toàn bộ chương trình trước khi chạy."
      ],
      "metadata": {
        "id": "HCkaKLEmGqVN"
      }
    },
    {
      "cell_type": "markdown",
      "source": [
        "Câu5:\n",
        "- Cách khai báo và gán giá trị: <Tên biến> = <giá trị>\n",
        "  Trong đó:\n",
        "    + <Tên Biến> là tên của biến mà các bạn muốn đặt. Tên biến này không được bắt đầu bằng số hay các ký tự đặc biệt, mà chỉ được bắt đầu bằng chữ cái hoặc ký tự _ và nó có phân biệt hoa thường.\n",
        "    + <giá trị> là giá trị của biến mà bạn muốn gán.\n",
        "  (Ngoài ra có thể khai báo nhiều biến bằng 1 giá trị trên 1 lần khai báo)\n",
        "  \n",
        "  Ví dụ:\n"
      ],
      "metadata": {
        "id": "AxxfLvPqHMdW"
      }
    },
    {
      "cell_type": "code",
      "source": [
        "#Khai báo biến bình thường\n",
        "val = \"Nguyen Viet Doanh\"\n",
        "a = 3\n",
        "print(val)\n",
        "print(a)\n",
        "#Khai bao nhieu bien chung mot gia tri\n",
        "b = c = 3\n",
        "#Khai bao nhieu bien tren 1 dong\n",
        "name, age, male = \"Nguyen Viet Doanh\", 19 , True"
      ],
      "metadata": {
        "colab": {
          "base_uri": "https://localhost:8080/"
        },
        "id": "gNtIL3euIMfs",
        "outputId": "44aab04a-e3f6-4b00-c1bf-9eeba0d8017a"
      },
      "execution_count": 1,
      "outputs": [
        {
          "output_type": "stream",
          "name": "stdout",
          "text": [
            "Nguyen Viet Doanh\n",
            "3\n"
          ]
        }
      ]
    },
    {
      "cell_type": "markdown",
      "source": [
        "Câu5: Các loại toán tử\n",
        "- Toán tử logic:\n",
        "  + Phép cộng \"+\"\n",
        "  + Phép trừ \"-\"\n",
        "  + Phép nhân \"*\"\n",
        "  + Phép chia \"/\"\n",
        "  + Phép chia lấy dư \"%\"\n",
        "  + Phép lấy số mũ \"**\"\n",
        "  + Phép chia lấy phần nguyên \"//\"\n",
        "\n",
        "Ví dụ:"
      ],
      "metadata": {
        "id": "KldAcx-4ItKq"
      }
    },
    {
      "cell_type": "code",
      "source": [
        "a = 21\n",
        "b = 10\n",
        "c = 0\n",
        "#Phep cong\n",
        "c = a + b\n",
        "print (\"Phep cong: \",c)\n",
        "#Phep tru\n",
        "c = a - b\n",
        "print(\"Phep tru:  \",c)\n",
        "#Phep nhan\n",
        "c = a*b\n",
        "print(\"Phep nhan: \",c)\n",
        "#Phep chia\n",
        "c = a/b\n",
        "print(\"Phep chia: \",c)\n",
        "#Phep chia lay du\n",
        "c = a%b\n",
        "print(\"Phep chia lay du: \",c)\n",
        "#Phep lay so mu\n",
        "c = a**b\n",
        "print(\"Phep lay so mu: \",c)\n",
        "#Phep chia lay so nguyen\n",
        "c = a//b\n",
        "print(\"Phep chia lay so nguyen: \",c)"
      ],
      "metadata": {
        "colab": {
          "base_uri": "https://localhost:8080/"
        },
        "id": "M2JcgjeiKDGI",
        "outputId": "4be3cd19-7e8c-49e7-f13d-4af2b5c60629"
      },
      "execution_count": 3,
      "outputs": [
        {
          "output_type": "stream",
          "name": "stdout",
          "text": [
            "Phep cong:  31\n",
            "Phep tru:   11\n",
            "Phep nhan:  210\n",
            "Phep chia:  2.1\n",
            "Phep chia lay du:  1\n",
            "Phep lay so mu:  16679880978201\n",
            "Phep chia lay so nguyen:  2\n"
          ]
        }
      ]
    },
    {
      "cell_type": "markdown",
      "source": [
        "Câu 5. Các toán tử:\n",
        "- Toán tử quan hệ:\n",
        "  + So sánh bằng \"==\"\n",
        "  + So sánh không bằng  \"<>\" hoặc \"!=\"\n",
        "  + Lớn hơn \">\"\n",
        "  + Nhỏ hơn \"<\"\n",
        "  + Lớn hơn hoặc bằng \">=\"\n",
        "  + Nhỏ hơn hoặc bằng \"<=\"\n",
        "\n",
        "  Ví dụ:"
      ],
      "metadata": {
        "id": "MQvQtwaiK4or"
      }
    },
    {
      "cell_type": "code",
      "source": [
        "a = 10\n",
        "b = 14\n",
        "#So sanh bang\n",
        "print(a==b)\n",
        "#So sanh khong bang\n",
        "print(a!=b)\n",
        "#Lon hon\n",
        "print(a>b)\n",
        "#Nho hon\n",
        "print(a<b)\n",
        "#Lon hon hoac bang\n",
        "print(a>=b)\n",
        "#Nho hon hoac bang\n",
        "print(a<=b)\n"
      ],
      "metadata": {
        "colab": {
          "base_uri": "https://localhost:8080/"
        },
        "id": "P4g-fAgCLcn9",
        "outputId": "6e7ef8c2-effd-40bf-f69b-b5e90d9df8dc"
      },
      "execution_count": 5,
      "outputs": [
        {
          "output_type": "stream",
          "name": "stdout",
          "text": [
            "False\n",
            "True\n",
            "False\n",
            "True\n",
            "False\n",
            "True\n"
          ]
        }
      ]
    },
    {
      "cell_type": "markdown",
      "source": [
        "Câu 5: Các toán tử:\n",
        "- Toán tử gán:\n",
        "  + Gán bằng \"=\"\n",
        "  + Gán cộng \"+=\"\n",
        "  + Gán trừ \"-=\"\n",
        "  + Gán nhân \"*=\"\n",
        "  + Gán chia \"/=\"\n",
        "  + Gán chia lấy dư \"%=\"\n",
        "  + Gán lũy thừa \"**=\"\n",
        "  + Gán chia lấy nguyên \"//=\"\n",
        "\n",
        "  Ví dụ:"
      ],
      "metadata": {
        "id": "xXilv6W3L6SU"
      }
    },
    {
      "cell_type": "code",
      "source": [
        "a = 10\n",
        "b = 15\n",
        "c = 0\n",
        "#Gan bang\n",
        "c = a+b\n",
        "print(c)\n",
        "#Gan cong\n",
        "c+=a\n",
        "print(c)\n",
        "#Gan tru\n",
        "c-=a\n",
        "print(c)\n",
        "#Gan nhan\n",
        "c*=a\n",
        "print(c)\n",
        "#gan chia\n",
        "c/=a\n",
        "print(c)\n",
        "#Gan chia lay du\n",
        "c%=a\n",
        "print(c)\n",
        "#Gan luy thua\n",
        "c**=a\n",
        "print(c)\n",
        "#Gan chia lay nguyen\n",
        "c//=a\n",
        "print(c)"
      ],
      "metadata": {
        "colab": {
          "base_uri": "https://localhost:8080/"
        },
        "id": "cjIF2Uv7Mhdg",
        "outputId": "761faac9-0d06-418f-d778-1ad3581cfeeb"
      },
      "execution_count": 6,
      "outputs": [
        {
          "output_type": "stream",
          "name": "stdout",
          "text": [
            "25\n",
            "35\n",
            "25\n",
            "250\n",
            "25.0\n",
            "5.0\n",
            "9765625.0\n",
            "976562.0\n"
          ]
        }
      ]
    },
    {
      "cell_type": "markdown",
      "source": [
        "Câu 5: Các toán tử:\n",
        "- Toán tử logic:\n",
        "  + and\n",
        "  + or\n",
        "  + not\n",
        "  \n",
        "Ví dụ:"
      ],
      "metadata": {
        "id": "1GelbNqsNHnY"
      }
    },
    {
      "cell_type": "code",
      "source": [
        "a = 21\n",
        "b = 10\n",
        "#and\n",
        "print(a>9 and b >4)\n",
        "#or\n",
        "print(a<10 or b>8)\n",
        "#not\n",
        "print(not(a>10))"
      ],
      "metadata": {
        "colab": {
          "base_uri": "https://localhost:8080/"
        },
        "id": "kZXSg4HMNmxl",
        "outputId": "de5e06fb-3def-4afa-adcf-43d7ece034bd"
      },
      "execution_count": 8,
      "outputs": [
        {
          "output_type": "stream",
          "name": "stdout",
          "text": [
            "True\n",
            "True\n",
            "False\n"
          ]
        }
      ]
    },
    {
      "cell_type": "markdown",
      "source": [
        "Câu 5: Các kiểu dữ liệu trong Python:\n",
        "- Số nguyên (integer)\n",
        "- Số thực (float)\n",
        "- Chuỗi (String)\n",
        "- Boolean\n",
        "- Danh sách (list)\n",
        "- Từ điển ( dictionary)\n",
        "\n",
        "Ví dụ:\n"
      ],
      "metadata": {
        "id": "rPoOX7zGN7yY"
      }
    },
    {
      "cell_type": "code",
      "source": [
        "#So nguyen\n",
        "a = 3\n",
        "print(a)\n",
        "print(type(a))\n",
        "#So thuc\n",
        "a = 1.5\n",
        "print(a)\n",
        "print(type(a))\n",
        "#Chuoi\n",
        "a = \"Doanh\"\n",
        "print(a)\n",
        "print(type(a))\n",
        "#Boolean\n",
        "a = True\n",
        "print(a)\n",
        "print(type(a))\n",
        "#List\n",
        "a = [ 1,4,5,6,7]\n",
        "print(a)\n",
        "print(type(a))\n",
        "#Dictionary\n",
        "a ={1: \"Viet Doanh\",2: \"Duc Anh\"}\n",
        "print(a)\n",
        "print(type(a))"
      ],
      "metadata": {
        "colab": {
          "base_uri": "https://localhost:8080/"
        },
        "id": "e6Yllnd5Ob7j",
        "outputId": "01139f50-cb10-41ab-990f-c9869d261d67"
      },
      "execution_count": 12,
      "outputs": [
        {
          "output_type": "stream",
          "name": "stdout",
          "text": [
            "3\n",
            "<class 'int'>\n",
            "1.5\n",
            "<class 'float'>\n",
            "Doanh\n",
            "<class 'str'>\n",
            "True\n",
            "<class 'bool'>\n",
            "[1, 4, 5, 6, 7]\n",
            "<class 'list'>\n",
            "{1: 'Viet Doanh', 2: 'Duc Anh'}\n",
            "<class 'dict'>\n"
          ]
        }
      ]
    }
  ]
}